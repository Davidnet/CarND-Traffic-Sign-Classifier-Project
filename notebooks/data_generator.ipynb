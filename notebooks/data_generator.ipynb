{
 "cells": [
  {
   "cell_type": "markdown",
   "metadata": {},
   "source": [
    "# Generating Test Data"
   ]
  },
  {
   "cell_type": "code",
   "execution_count": 18,
   "metadata": {},
   "outputs": [],
   "source": [
    "%matplotlib inline\n",
    "import pickle\n",
    "import dicto as do\n",
    "import numpy as np\n",
    "import pandas as pd\n",
    "import tensorflow as tf\n",
    "import os\n",
    "import random\n",
    "\n",
    "import matplotlib.pyplot as plt\n",
    "\n",
    "from PIL import Image\n",
    "\n",
    "from python_path import PythonPath\n",
    "with PythonPath(\"/code/traffic_sign_classifier/\"):\n",
    "    from german_traffic_densenet import model_fn\n",
    "    from german_traffic_dataset import input_fn"
   ]
  },
  {
   "cell_type": "code",
   "execution_count": 2,
   "metadata": {},
   "outputs": [],
   "source": [
    "params = do.load(\"/code/traffic_sign_classifier/configs.yml\")\n",
    "with open(\"/data/valid.p\", \"rb\") as fd:\n",
    "    validation = pickle.load(fd)"
   ]
  },
  {
   "cell_type": "code",
   "execution_count": 3,
   "metadata": {},
   "outputs": [
    {
     "name": "stdout",
     "output_type": "stream",
     "text": [
      "{'coords': (4410, 4), 'labels': (4410,), 'features': (4410, 32, 32, 3), 'sizes': (4410, 2)}\n"
     ]
    }
   ],
   "source": [
    "print({key: value.shape for key, value in validation.items()})"
   ]
  },
  {
   "cell_type": "code",
   "execution_count": 4,
   "metadata": {},
   "outputs": [],
   "source": [
    "labels_df = pd.DataFrame(validation['labels'], columns=['class_id'])\n",
    "sample_list = labels_df.groupby(['class_id']).apply(lambda x: x.sample()).index.tolist()"
   ]
  },
  {
   "cell_type": "code",
   "execution_count": 5,
   "metadata": {},
   "outputs": [
    {
     "data": {
      "text/plain": [
       "[(0, 1330),\n",
       " (1, 495),\n",
       " (2, 4168),\n",
       " (3, 875),\n",
       " (4, 1045),\n",
       " (5, 1718),\n",
       " (6, 2733),\n",
       " (7, 3096),\n",
       " (8, 2125),\n",
       " (9, 1600),\n",
       " (10, 2253),\n",
       " (11, 1149),\n",
       " (12, 3634),\n",
       " (13, 2935),\n",
       " (14, 3737),\n",
       " (15, 3811),\n",
       " (16, 748),\n",
       " (17, 4002),\n",
       " (18, 2611),\n",
       " (19, 916),\n",
       " (20, 3321),\n",
       " (21, 3247),\n",
       " (22, 658),\n",
       " (23, 251),\n",
       " (24, 1455),\n",
       " (25, 4290),\n",
       " (26, 211),\n",
       " (27, 1386),\n",
       " (28, 3491),\n",
       " (29, 1416),\n",
       " (30, 3169),\n",
       " (31, 30),\n",
       " (32, 1377),\n",
       " (33, 3445),\n",
       " (34, 2577),\n",
       " (35, 2436),\n",
       " (36, 123),\n",
       " (37, 686),\n",
       " (38, 1963),\n",
       " (39, 3231),\n",
       " (40, 584),\n",
       " (41, 0),\n",
       " (42, 1302)]"
      ]
     },
     "execution_count": 5,
     "metadata": {},
     "output_type": "execute_result"
    }
   ],
   "source": [
    "sample_list"
   ]
  },
  {
   "cell_type": "code",
   "execution_count": 8,
   "metadata": {},
   "outputs": [],
   "source": [
    "rand_items = random.sample(sample_list, 15)"
   ]
  },
  {
   "cell_type": "code",
   "execution_count": 8,
   "metadata": {},
   "outputs": [],
   "source": [
    "\n",
    "#im = Image.fromarray(A)\n",
    "#im.save(\"your_file.jpeg\")"
   ]
  },
  {
   "cell_type": "code",
   "execution_count": 9,
   "metadata": {},
   "outputs": [
    {
     "data": {
      "text/plain": [
       "15"
      ]
     },
     "execution_count": 9,
     "metadata": {},
     "output_type": "execute_result"
    }
   ],
   "source": [
    "len(rand_items)"
   ]
  },
  {
   "cell_type": "code",
   "execution_count": 10,
   "metadata": {},
   "outputs": [],
   "source": [
    "for class_id, index in rand_items:\n",
    "    im = Image.fromarray(validation['features'][index])\n",
    "    im.save(\"/code/test_images/{}.jpg\".format(str(class_id)))"
   ]
  },
  {
   "cell_type": "code",
   "execution_count": 11,
   "metadata": {},
   "outputs": [
    {
     "data": {
      "text/plain": [
       "[(16, 748),\n",
       " (25, 4290),\n",
       " (22, 658),\n",
       " (3, 875),\n",
       " (13, 2935),\n",
       " (30, 3169),\n",
       " (35, 2436),\n",
       " (31, 30),\n",
       " (21, 3247),\n",
       " (24, 1455),\n",
       " (29, 1416),\n",
       " (39, 3231),\n",
       " (6, 2733),\n",
       " (1, 495),\n",
       " (38, 1963)]"
      ]
     },
     "execution_count": 11,
     "metadata": {},
     "output_type": "execute_result"
    }
   ],
   "source": [
    "rand_items"
   ]
  }
 ],
 "metadata": {
  "kernelspec": {
   "display_name": "Python 3",
   "language": "python",
   "name": "python3"
  },
  "language_info": {
   "codemirror_mode": {
    "name": "ipython",
    "version": 3
   },
   "file_extension": ".py",
   "mimetype": "text/x-python",
   "name": "python",
   "nbconvert_exporter": "python",
   "pygments_lexer": "ipython3",
   "version": "3.6.7"
  }
 },
 "nbformat": 4,
 "nbformat_minor": 2
}
