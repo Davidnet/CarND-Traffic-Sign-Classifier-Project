{
 "cells": [
  {
   "cell_type": "markdown",
   "metadata": {},
   "source": [
    "# Image Reconstruction."
   ]
  },
  {
   "cell_type": "code",
   "execution_count": 1,
   "metadata": {},
   "outputs": [],
   "source": [
    "%matplotlib inline\n",
    "import pickle\n",
    "import dicto as do\n",
    "import numpy as np\n",
    "import tensorflow as tf\n",
    "import os\n",
    "\n",
    "import matplotlib.pyplot as plt\n",
    "\n",
    "from python_path import PythonPath\n",
    "with PythonPath(\"/code/traffic_sign_classifier/\"):\n",
    "    from german_traffic_densenet import model_fn\n",
    "    from german_traffic_dataset import input_fn"
   ]
  },
  {
   "cell_type": "code",
   "execution_count": 3,
   "metadata": {},
   "outputs": [],
   "source": [
    "with open(\"/data/valid.p\", \"rb\") as fd:\n",
    "    validation = pickle.load(fd)"
   ]
  },
  {
   "cell_type": "code",
   "execution_count": 8,
   "metadata": {},
   "outputs": [],
   "source": [
    "params = do.load(\"/code/traffic_sign_classifier/configs.yml\")"
   ]
  },
  {
   "cell_type": "code",
   "execution_count": 26,
   "metadata": {},
   "outputs": [],
   "source": [
    "validate_input_fn = lambda : input_fn(valid['features'], valid['labels'].astype(np.int32), params.train_params, training=False)"
   ]
  },
  {
   "cell_type": "code",
   "execution_count": 27,
   "metadata": {},
   "outputs": [],
   "source": [
    "validation_images = validate_input_fn()"
   ]
  },
  {
   "cell_type": "code",
   "execution_count": 28,
   "metadata": {},
   "outputs": [
    {
     "data": {
      "text/plain": [
       "<PrefetchDataset shapes: ((16, 32, 32, 3), (16,)), types: (tf.float32, tf.int32)>"
      ]
     },
     "execution_count": 28,
     "metadata": {},
     "output_type": "execute_result"
    }
   ],
   "source": [
    "validation_images"
   ]
  },
  {
   "cell_type": "code",
   "execution_count": 29,
   "metadata": {},
   "outputs": [],
   "source": [
    "tf_iterator = validation_images.make_one_shot_iterator()"
   ]
  },
  {
   "cell_type": "code",
   "execution_count": 30,
   "metadata": {},
   "outputs": [],
   "source": [
    "iter_op = tf_iterator.get_next()"
   ]
  },
  {
   "cell_type": "code",
   "execution_count": 31,
   "metadata": {},
   "outputs": [],
   "source": [
    "with tf.Session() as sess:\n",
    "    first_batch = sess.run(iter_op)"
   ]
  },
  {
   "cell_type": "code",
   "execution_count": 32,
   "metadata": {},
   "outputs": [],
   "source": [
    "first_element = (first_batch[0][0], first_batch[1][0])"
   ]
  },
  {
   "cell_type": "code",
   "execution_count": 33,
   "metadata": {},
   "outputs": [
    {
     "data": {
      "text/plain": [
       "(array([[[ 0.0509804 ,  0.04705883,  0.04705883],\n",
       "         [ 0.04705883,  0.04313726,  0.04705883],\n",
       "         [ 0.0509804 ,  0.04313726,  0.04313726],\n",
       "         ..., \n",
       "         [ 0.05490196,  0.04705883,  0.04313726],\n",
       "         [ 0.0509804 ,  0.04705883,  0.04313726],\n",
       "         [ 0.04705883,  0.04705883,  0.04313726]],\n",
       " \n",
       "        [[ 0.0509804 ,  0.04705883,  0.0509804 ],\n",
       "         [ 0.04705883,  0.04313726,  0.04705883],\n",
       "         [ 0.0509804 ,  0.04705883,  0.04705883],\n",
       "         ..., \n",
       "         [ 0.0509804 ,  0.04705883,  0.04313726],\n",
       "         [ 0.0509804 ,  0.04705883,  0.04313726],\n",
       "         [ 0.04705883,  0.04705883,  0.04313726]],\n",
       " \n",
       "        [[ 0.0509804 ,  0.04705883,  0.0509804 ],\n",
       "         [ 0.04705883,  0.04313726,  0.04705883],\n",
       "         [ 0.04705883,  0.04705883,  0.04705883],\n",
       "         ..., \n",
       "         [ 0.0509804 ,  0.04705883,  0.04313726],\n",
       "         [ 0.0509804 ,  0.04705883,  0.04313726],\n",
       "         [ 0.04705883,  0.04705883,  0.04313726]],\n",
       " \n",
       "        ..., \n",
       "        [[ 0.0627451 ,  0.05882353,  0.05882353],\n",
       "         [ 0.05882353,  0.05490196,  0.05490196],\n",
       "         [ 0.05882353,  0.05882353,  0.05882353],\n",
       "         ..., \n",
       "         [ 0.0509804 ,  0.04705883,  0.04705883],\n",
       "         [ 0.05490196,  0.0509804 ,  0.0509804 ],\n",
       "         [ 0.05490196,  0.0509804 ,  0.0509804 ]],\n",
       " \n",
       "        [[ 0.07058824,  0.0627451 ,  0.0627451 ],\n",
       "         [ 0.06666667,  0.05882353,  0.05882353],\n",
       "         [ 0.07058824,  0.0627451 ,  0.0627451 ],\n",
       "         ..., \n",
       "         [ 0.04705883,  0.04313726,  0.04313726],\n",
       "         [ 0.0509804 ,  0.04705883,  0.04705883],\n",
       "         [ 0.05490196,  0.0509804 ,  0.0509804 ]],\n",
       " \n",
       "        [[ 0.07450981,  0.06666667,  0.06666667],\n",
       "         [ 0.07058824,  0.0627451 ,  0.0627451 ],\n",
       "         [ 0.07450981,  0.06666667,  0.06666667],\n",
       "         ..., \n",
       "         [ 0.04705883,  0.04705883,  0.04705883],\n",
       "         [ 0.0509804 ,  0.0509804 ,  0.0509804 ],\n",
       "         [ 0.05882353,  0.05490196,  0.05490196]]], dtype=float32), 41)"
      ]
     },
     "execution_count": 33,
     "metadata": {},
     "output_type": "execute_result"
    }
   ],
   "source": [
    "first_element"
   ]
  },
  {
   "cell_type": "code",
   "execution_count": 34,
   "metadata": {},
   "outputs": [
    {
     "data": {
      "text/plain": [
       "<matplotlib.image.AxesImage at 0x7f93d28c5160>"
      ]
     },
     "execution_count": 34,
     "metadata": {},
     "output_type": "execute_result"
    },
    {
     "data": {
      "image/png": "[encoded data removed]",
      "text/plain": [
       "<Figure size 432x288 with 1 Axes>"
      ]
     },
     "metadata": {
      "needs_background": "light"
     },
     "output_type": "display_data"
    }
   ],
   "source": [
    "plt.imshow(first_element[0])"
   ]
  },
  {
   "cell_type": "code",
   "execution_count": 22,
   "metadata": {},
   "outputs": [
    {
     "data": {
      "text/plain": [
       "(32, 32, 3)"
      ]
     },
     "execution_count": 22,
     "metadata": {},
     "output_type": "execute_result"
    }
   ],
   "source": [
    "first_element[0].shape"
   ]
  },
  {
   "cell_type": "code",
   "execution_count": 23,
   "metadata": {},
   "outputs": [],
   "source": [
    "image_tf = tf.image.convert_image_dtype(first_element[0], tf.float32)"
   ]
  },
  {
   "cell_type": "code",
   "execution_count": 24,
   "metadata": {},
   "outputs": [],
   "source": [
    "with tf.Session() as sess:\n",
    "    sess_image_tf = sess.run(image_tf)"
   ]
  },
  {
   "cell_type": "code",
   "execution_count": 25,
   "metadata": {},
   "outputs": [
    {
     "data": {
      "text/plain": [
       "array([[[ 13.,  12.,  12.],\n",
       "        [ 12.,  11.,  12.],\n",
       "        [ 13.,  11.,  11.],\n",
       "        ..., \n",
       "        [ 14.,  12.,  11.],\n",
       "        [ 13.,  12.,  11.],\n",
       "        [ 12.,  12.,  11.]],\n",
       "\n",
       "       [[ 13.,  12.,  13.],\n",
       "        [ 12.,  11.,  12.],\n",
       "        [ 13.,  12.,  12.],\n",
       "        ..., \n",
       "        [ 13.,  12.,  11.],\n",
       "        [ 13.,  12.,  11.],\n",
       "        [ 12.,  12.,  11.]],\n",
       "\n",
       "       [[ 13.,  12.,  13.],\n",
       "        [ 12.,  11.,  12.],\n",
       "        [ 12.,  12.,  12.],\n",
       "        ..., \n",
       "        [ 13.,  12.,  11.],\n",
       "        [ 13.,  12.,  11.],\n",
       "        [ 12.,  12.,  11.]],\n",
       "\n",
       "       ..., \n",
       "       [[ 16.,  15.,  15.],\n",
       "        [ 15.,  14.,  14.],\n",
       "        [ 15.,  15.,  15.],\n",
       "        ..., \n",
       "        [ 13.,  12.,  12.],\n",
       "        [ 14.,  13.,  13.],\n",
       "        [ 14.,  13.,  13.]],\n",
       "\n",
       "       [[ 18.,  16.,  16.],\n",
       "        [ 17.,  15.,  15.],\n",
       "        [ 18.,  16.,  16.],\n",
       "        ..., \n",
       "        [ 12.,  11.,  11.],\n",
       "        [ 13.,  12.,  12.],\n",
       "        [ 14.,  13.,  13.]],\n",
       "\n",
       "       [[ 19.,  17.,  17.],\n",
       "        [ 18.,  16.,  16.],\n",
       "        [ 19.,  17.,  17.],\n",
       "        ..., \n",
       "        [ 12.,  12.,  12.],\n",
       "        [ 13.,  13.,  13.],\n",
       "        [ 15.,  14.,  14.]]], dtype=float32)"
      ]
     },
     "execution_count": 25,
     "metadata": {},
     "output_type": "execute_result"
    }
   ],
   "source": [
    "sess_image_tf"
   ]
  },
  {
   "cell_type": "code",
   "execution_count": null,
   "metadata": {},
   "outputs": [],
   "source": [
    "first_element"
   ]
  }
 ],
 "metadata": {
  "kernelspec": {
   "display_name": "Python 3",
   "language": "python",
   "name": "python3"
  },
  "language_info": {
   "codemirror_mode": {
    "name": "ipython",
    "version": 3
   },
   "file_extension": ".py",
   "mimetype": "text/x-python",
   "name": "python",
   "nbconvert_exporter": "python",
   "pygments_lexer": "ipython3",
   "version": "3.6.7"
  }
 },
 "nbformat": 4,
 "nbformat_minor": 2
}
