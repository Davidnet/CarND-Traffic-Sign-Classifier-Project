{
 "cells": [
  {
   "cell_type": "code",
   "execution_count": 1,
   "metadata": {},
   "outputs": [],
   "source": [
    "%matplotlib inline\n",
    "import pickle\n",
    "import dicto as do\n",
    "import numpy as np\n",
    "import pandas as pd\n",
    "import tensorflow as tf\n",
    "import os\n",
    "\n",
    "import matplotlib.pyplot as plt\n",
    "\n",
    "from python_path import PythonPath\n",
    "with PythonPath(\"/code/traffic_sign_classifier/\"):\n",
    "    from german_traffic_densenet import model_fn\n",
    "    from german_traffic_dataset import input_fn"
   ]
  },
  {
   "cell_type": "code",
   "execution_count": 2,
   "metadata": {},
   "outputs": [],
   "source": [
    "params = do.load(\"/code/traffic_sign_classifier/configs.yml\")\n",
    "with open(\"/data/valid.p\", \"rb\") as fd:\n",
    "    validation = pickle.load(fd)"
   ]
  },
  {
   "cell_type": "code",
   "execution_count": 3,
   "metadata": {},
   "outputs": [
    {
     "name": "stdout",
     "output_type": "stream",
     "text": [
      "{'coords': (4410, 4), 'labels': (4410,), 'features': (4410, 32, 32, 3), 'sizes': (4410, 2)}\n"
     ]
    }
   ],
   "source": [
    "print({key: value.shape for key, value in validation.items()})"
   ]
  },
  {
   "cell_type": "code",
   "execution_count": 4,
   "metadata": {},
   "outputs": [
    {
     "data": {
      "image/png": "[encoded data removed]",
      "text/plain": [
       "<Figure size 432x288 with 1 Axes>"
      ]
     },
     "metadata": {
      "needs_background": "light"
     },
     "output_type": "display_data"
    }
   ],
   "source": [
    "fig, ax = plt.subplots()\n",
    "im = ax.imshow(validation['features'][4400])\n",
    "ax.text(0, 1, validation['labels'][4400], fontsize=20, horizontalalignment='center', verticalalignment='center', transform=ax.transAxes, bbox=dict(facecolor='red', alpha=0.5))\n",
    "plt.show()"
   ]
  },
  {
   "cell_type": "code",
   "execution_count": 5,
   "metadata": {},
   "outputs": [
    {
     "data": {
      "text/plain": [
       "class_id\n",
       "0      30\n",
       "1     240\n",
       "2     240\n",
       "3     150\n",
       "4     210\n",
       "5     210\n",
       "6      60\n",
       "7     150\n",
       "8     150\n",
       "9     150\n",
       "10    210\n",
       "11    150\n",
       "12    210\n",
       "13    240\n",
       "14     90\n",
       "15     90\n",
       "16     60\n",
       "17    120\n",
       "18    120\n",
       "19     30\n",
       "20     60\n",
       "21     60\n",
       "22     60\n",
       "23     60\n",
       "24     30\n",
       "25    150\n",
       "26     60\n",
       "27     30\n",
       "28     60\n",
       "29     30\n",
       "30     60\n",
       "31     90\n",
       "32     30\n",
       "33     90\n",
       "34     60\n",
       "35    120\n",
       "36     60\n",
       "37     30\n",
       "38    210\n",
       "39     30\n",
       "40     60\n",
       "41     30\n",
       "42     30\n",
       "dtype: int64"
      ]
     },
     "execution_count": 5,
     "metadata": {},
     "output_type": "execute_result"
    }
   ],
   "source": [
    "labels_df = pd.DataFrame(validation['labels'], columns=['class_id'])\n",
    "labels_df.groupby(['class_id']).size()"
   ]
  },
  {
   "cell_type": "code",
   "execution_count": 6,
   "metadata": {},
   "outputs": [],
   "source": [
    "from itertools import product\n",
    "def make_indexes(tuple_index):\n",
    "    rows, columns = tuple_index\n",
    "    for index in product(range(rows), range(columns)):\n",
    "        yield index"
   ]
  },
  {
   "cell_type": "code",
   "execution_count": 7,
   "metadata": {},
   "outputs": [],
   "source": [
    "def plot_list(img_indexes, shape):\n",
    "    try:\n",
    "        grid = np.array(img_indexes).reshape(shape)\n",
    "    except ValueError:\n",
    "        grid = np.array(img_indexes + [-1]).reshape(shape)\n",
    "    fig, axes = plt.subplots(*shape,)\n",
    "    for index in make_indexes(shape):\n",
    "        img_index  = grid[index]\n",
    "        img = validation['features'][img_index]\n",
    "        axes[index].set_title(validation['labels'][img_index])\n",
    "        axes[index].imshow(img)\n",
    "        axes[index].set_axis_off()"
   ]
  },
  {
   "cell_type": "code",
   "execution_count": 8,
   "metadata": {},
   "outputs": [],
   "source": [
    "sample_list = labels_df.groupby(['class_id']).apply(lambda x: x.sample()).index.tolist()\n",
    "sample_index = [x[1] for x in sample_list]"
   ]
  },
  {
   "cell_type": "code",
   "execution_count": 9,
   "metadata": {},
   "outputs": [
    {
     "data": {
      "image/png": "[encoded data removed]",
      "text/plain": [
       "<Figure size 432x288 with 4 Axes>"
      ]
     },
     "metadata": {
      "needs_background": "light"
     },
     "output_type": "display_data"
    }
   ],
   "source": [
    " plot_list(sample_index[0:4], shape=(2,2))"
   ]
  },
  {
   "cell_type": "code",
   "execution_count": 10,
   "metadata": {},
   "outputs": [],
   "source": [
    "params = do.load(\"/code/traffic_sign_classifier/configs.yml\")"
   ]
  },
  {
   "cell_type": "code",
   "execution_count": 11,
   "metadata": {},
   "outputs": [],
   "source": [
    "validate_input_fn = lambda : input_fn(validation['features'].astype(np.float32), validation['labels'].astype(np.int32), params.train_params, training=False)"
   ]
  },
  {
   "cell_type": "code",
   "execution_count": 12,
   "metadata": {},
   "outputs": [
    {
     "name": "stdout",
     "output_type": "stream",
     "text": [
      "INFO:tensorflow:Using default config.\n",
      "INFO:tensorflow:Using config: {'_model_dir': '/models/paper_densenet_normalized_augmented', '_tf_random_seed': None, '_save_summary_steps': 100, '_save_checkpoints_steps': None, '_save_checkpoints_secs': 600, '_session_config': allow_soft_placement: true\n",
      "graph_options {\n",
      "  rewrite_options {\n",
      "    meta_optimizer_iterations: ONE\n",
      "  }\n",
      "}\n",
      ", '_keep_checkpoint_max': 5, '_keep_checkpoint_every_n_hours': 10000, '_log_step_count_steps': 100, '_train_distribute': None, '_device_fn': None, '_protocol': None, '_eval_distribute': None, '_experimental_distribute': None, '_service': None, '_cluster_spec': <tensorflow.python.training.server_lib.ClusterSpec object at 0x7f7f88f590f0>, '_task_type': 'worker', '_task_id': 0, '_global_id_in_cluster': 0, '_master': '', '_evaluation_master': '', '_is_chief': True, '_num_ps_replicas': 0, '_num_worker_replicas': 1}\n"
     ]
    }
   ],
   "source": [
    "classifier = tf.estimator.Estimator(model_fn, model_dir=params.model_dir)"
   ]
  },
  {
   "cell_type": "code",
   "execution_count": 13,
   "metadata": {},
   "outputs": [],
   "source": [
    "predictions = classifier.predict(input_fn=validate_input_fn)"
   ]
  },
  {
   "cell_type": "code",
   "execution_count": 14,
   "metadata": {},
   "outputs": [
    {
     "name": "stdout",
     "output_type": "stream",
     "text": [
      "INFO:tensorflow:Calling model_fn.\n",
      "INFO:tensorflow:Done calling model_fn.\n",
      "INFO:tensorflow:Graph was finalized.\n",
      "INFO:tensorflow:Restoring parameters from /models/paper_densenet_normalized_augmented/model.ckpt-55937\n",
      "INFO:tensorflow:Running local_init_op.\n",
      "INFO:tensorflow:Done running local_init_op.\n",
      "1 32 41\n",
      "77 21 31\n",
      "78 19 31\n",
      "79 21 31\n",
      "204 18 26\n",
      "271 20 23\n",
      "273 20 23\n",
      "301 4 1\n",
      "302 4 1\n",
      "308 4 1\n",
      "330 0 1\n",
      "331 0 1\n",
      "355 0 1\n",
      "390 4 1\n",
      "391 4 1\n",
      "392 15 1\n",
      "393 0 1\n",
      "394 4 1\n",
      "401 0 1\n",
      "405 0 1\n",
      "420 0 1\n",
      "426 0 1\n",
      "427 0 1\n",
      "428 0 1\n",
      "429 0 1\n",
      "430 0 1\n",
      "431 0 1\n",
      "450 13 1\n",
      "540 13 40\n",
      "541 42 40\n",
      "542 32 40\n",
      "548 32 40\n",
      "690 42 16\n",
      "691 42 16\n",
      "692 42 16\n",
      "693 42 16\n",
      "694 42 16\n",
      "695 42 16\n",
      "696 42 16\n",
      "697 42 16\n",
      "698 42 16\n",
      "699 42 16\n",
      "700 42 16\n",
      "701 42 16\n",
      "702 42 16\n",
      "703 42 16\n",
      "704 42 16\n",
      "705 42 16\n",
      "706 42 16\n",
      "707 42 16\n",
      "708 42 16\n",
      "709 42 16\n",
      "710 42 16\n",
      "711 42 16\n",
      "712 42 16\n",
      "713 42 16\n",
      "714 42 16\n",
      "715 42 16\n",
      "716 42 16\n",
      "717 42 16\n",
      "718 42 16\n",
      "719 42 16\n",
      "750 9 3\n",
      "753 16 3\n",
      "755 16 3\n",
      "773 5 3\n",
      "774 5 3\n",
      "775 5 3\n",
      "776 5 3\n",
      "778 5 3\n",
      "779 5 3\n",
      "1287 28 11\n",
      "1407 11 27\n",
      "1408 11 27\n",
      "1790 1 5\n",
      "1795 6 5\n",
      "1796 32 5\n",
      "1920 42 38\n",
      "1921 42 38\n",
      "1923 36 38\n",
      "1924 42 38\n",
      "1926 42 38\n",
      "1927 42 38\n",
      "1928 42 38\n",
      "1929 42 38\n",
      "1930 42 38\n",
      "1931 42 38\n",
      "1932 36 38\n",
      "1933 42 38\n",
      "1935 42 38\n",
      "1936 42 38\n",
      "1937 42 38\n",
      "1938 40 38\n",
      "1939 40 38\n",
      "1940 42 38\n",
      "1941 42 38\n",
      "1943 42 38\n",
      "1944 40 38\n",
      "1945 42 38\n",
      "1946 42 38\n",
      "1947 40 38\n",
      "1949 42 38\n",
      "1953 34 38\n",
      "1975 40 38\n",
      "2070 4 8\n",
      "2071 4 8\n",
      "2072 4 8\n",
      "2073 4 8\n",
      "2074 4 8\n",
      "2075 4 8\n",
      "2076 4 8\n",
      "2077 7 8\n",
      "2100 1 8\n",
      "2101 1 8\n",
      "2124 41 8\n",
      "2125 0 8\n",
      "2157 1 8\n",
      "2402 33 35\n",
      "2407 33 35\n",
      "2492 34 35\n",
      "2610 26 18\n",
      "2615 24 18\n",
      "2638 24 18\n",
      "2641 24 18\n",
      "2660 24 18\n",
      "2670 24 18\n",
      "2693 24 18\n",
      "2780 6 13\n",
      "2851 34 13\n",
      "2858 40 13\n",
      "3091 8 7\n",
      "3240 26 21\n",
      "3241 20 21\n",
      "3242 20 21\n",
      "3243 23 21\n",
      "3244 23 21\n",
      "3245 23 21\n",
      "3246 23 21\n",
      "3247 31 21\n",
      "3248 31 21\n",
      "3249 31 21\n",
      "3251 31 21\n",
      "3330 25 20\n",
      "3331 25 20\n",
      "3332 24 20\n",
      "3333 11 20\n",
      "3334 24 20\n",
      "3335 25 20\n",
      "3336 11 20\n",
      "3337 25 20\n",
      "3339 29 20\n",
      "3417 35 33\n",
      "3452 20 28\n",
      "3874 8 15\n",
      "4008 14 17\n",
      "4068 1 2\n",
      "4071 1 2\n",
      "4072 1 2\n",
      "4073 1 2\n",
      "4082 7 2\n",
      "4085 5 2\n",
      "4111 13 2\n",
      "4290 26 25\n",
      "4291 26 25\n",
      "4292 26 25\n",
      "4293 0 25\n",
      "4294 22 25\n",
      "4297 15 25\n",
      "4303 29 25\n"
     ]
    }
   ],
   "source": [
    "missclassified = []\n",
    "for i, prediction in enumerate(predictions):\n",
    "    if prediction['class_ids'] != labels_df.class_id.iloc[i]:\n",
    "        print(i, prediction['class_ids'], labels_df.class_id.iloc[i])\n",
    "        missclassified.append((prediction['class_ids'], labels_df.class_id.iloc[i]))"
   ]
  },
  {
   "cell_type": "code",
   "execution_count": 15,
   "metadata": {},
   "outputs": [
    {
     "data": {
      "text/plain": [
       "[(32, 41),\n",
       " (21, 31),\n",
       " (19, 31),\n",
       " (21, 31),\n",
       " (18, 26),\n",
       " (20, 23),\n",
       " (20, 23),\n",
       " (4, 1),\n",
       " (4, 1),\n",
       " (4, 1),\n",
       " (0, 1),\n",
       " (0, 1),\n",
       " (0, 1),\n",
       " (4, 1),\n",
       " (4, 1),\n",
       " (15, 1),\n",
       " (0, 1),\n",
       " (4, 1),\n",
       " (0, 1),\n",
       " (0, 1),\n",
       " (0, 1),\n",
       " (0, 1),\n",
       " (0, 1),\n",
       " (0, 1),\n",
       " (0, 1),\n",
       " (0, 1),\n",
       " (0, 1),\n",
       " (13, 1),\n",
       " (13, 40),\n",
       " (42, 40),\n",
       " (32, 40),\n",
       " (32, 40),\n",
       " (42, 16),\n",
       " (42, 16),\n",
       " (42, 16),\n",
       " (42, 16),\n",
       " (42, 16),\n",
       " (42, 16),\n",
       " (42, 16),\n",
       " (42, 16),\n",
       " (42, 16),\n",
       " (42, 16),\n",
       " (42, 16),\n",
       " (42, 16),\n",
       " (42, 16),\n",
       " (42, 16),\n",
       " (42, 16),\n",
       " (42, 16),\n",
       " (42, 16),\n",
       " (42, 16),\n",
       " (42, 16),\n",
       " (42, 16),\n",
       " (42, 16),\n",
       " (42, 16),\n",
       " (42, 16),\n",
       " (42, 16),\n",
       " (42, 16),\n",
       " (42, 16),\n",
       " (42, 16),\n",
       " (42, 16),\n",
       " (42, 16),\n",
       " (42, 16),\n",
       " (9, 3),\n",
       " (16, 3),\n",
       " (16, 3),\n",
       " (5, 3),\n",
       " (5, 3),\n",
       " (5, 3),\n",
       " (5, 3),\n",
       " (5, 3),\n",
       " (5, 3),\n",
       " (28, 11),\n",
       " (11, 27),\n",
       " (11, 27),\n",
       " (1, 5),\n",
       " (6, 5),\n",
       " (32, 5),\n",
       " (42, 38),\n",
       " (42, 38),\n",
       " (36, 38),\n",
       " (42, 38),\n",
       " (42, 38),\n",
       " (42, 38),\n",
       " (42, 38),\n",
       " (42, 38),\n",
       " (42, 38),\n",
       " (42, 38),\n",
       " (36, 38),\n",
       " (42, 38),\n",
       " (42, 38),\n",
       " (42, 38),\n",
       " (42, 38),\n",
       " (40, 38),\n",
       " (40, 38),\n",
       " (42, 38),\n",
       " (42, 38),\n",
       " (42, 38),\n",
       " (40, 38),\n",
       " (42, 38),\n",
       " (42, 38),\n",
       " (40, 38),\n",
       " (42, 38),\n",
       " (34, 38),\n",
       " (40, 38),\n",
       " (4, 8),\n",
       " (4, 8),\n",
       " (4, 8),\n",
       " (4, 8),\n",
       " (4, 8),\n",
       " (4, 8),\n",
       " (4, 8),\n",
       " (7, 8),\n",
       " (1, 8),\n",
       " (1, 8),\n",
       " (41, 8),\n",
       " (0, 8),\n",
       " (1, 8),\n",
       " (33, 35),\n",
       " (33, 35),\n",
       " (34, 35),\n",
       " (26, 18),\n",
       " (24, 18),\n",
       " (24, 18),\n",
       " (24, 18),\n",
       " (24, 18),\n",
       " (24, 18),\n",
       " (24, 18),\n",
       " (6, 13),\n",
       " (34, 13),\n",
       " (40, 13),\n",
       " (8, 7),\n",
       " (26, 21),\n",
       " (20, 21),\n",
       " (20, 21),\n",
       " (23, 21),\n",
       " (23, 21),\n",
       " (23, 21),\n",
       " (23, 21),\n",
       " (31, 21),\n",
       " (31, 21),\n",
       " (31, 21),\n",
       " (31, 21),\n",
       " (25, 20),\n",
       " (25, 20),\n",
       " (24, 20),\n",
       " (11, 20),\n",
       " (24, 20),\n",
       " (25, 20),\n",
       " (11, 20),\n",
       " (25, 20),\n",
       " (29, 20),\n",
       " (35, 33),\n",
       " (20, 28),\n",
       " (8, 15),\n",
       " (14, 17),\n",
       " (1, 2),\n",
       " (1, 2),\n",
       " (1, 2),\n",
       " (1, 2),\n",
       " (7, 2),\n",
       " (5, 2),\n",
       " (13, 2),\n",
       " (26, 25),\n",
       " (26, 25),\n",
       " (26, 25),\n",
       " (0, 25),\n",
       " (22, 25),\n",
       " (15, 25),\n",
       " (29, 25)]"
      ]
     },
     "execution_count": 15,
     "metadata": {},
     "output_type": "execute_result"
    }
   ],
   "source": [
    "missclassified"
   ]
  },
  {
   "cell_type": "code",
   "execution_count": 16,
   "metadata": {},
   "outputs": [
    {
     "data": {
      "text/plain": [
       "4410"
      ]
     },
     "execution_count": 16,
     "metadata": {},
     "output_type": "execute_result"
    }
   ],
   "source": [
    "len(labels_df.class_id)"
   ]
  },
  {
   "cell_type": "code",
   "execution_count": 17,
   "metadata": {},
   "outputs": [
    {
     "data": {
      "text/plain": [
       "3.8321995464852607"
      ]
     },
     "execution_count": 17,
     "metadata": {},
     "output_type": "execute_result"
    }
   ],
   "source": [
    "(len(missclassified)*100)/len(labels_df.class_id)"
   ]
  }
 ],
 "metadata": {
  "kernelspec": {
   "display_name": "Python 3",
   "language": "python",
   "name": "python3"
  },
  "language_info": {
   "codemirror_mode": {
    "name": "ipython",
    "version": 3
   },
   "file_extension": ".py",
   "mimetype": "text/x-python",
   "name": "python",
   "nbconvert_exporter": "python",
   "pygments_lexer": "ipython3",
   "version": "3.6.7"
  }
 },
 "nbformat": 4,
 "nbformat_minor": 2
}
